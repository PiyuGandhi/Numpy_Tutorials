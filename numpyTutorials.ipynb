{
 "cells": [
  {
   "cell_type": "markdown",
   "metadata": {
    "collapsed": true
   },
   "source": [
    "# Numpy Tutorials"
   ]
  },
  {
   "cell_type": "code",
   "execution_count": 1,
   "metadata": {},
   "outputs": [],
   "source": [
    "import numpy as np"
   ]
  },
  {
   "cell_type": "code",
   "execution_count": 2,
   "metadata": {},
   "outputs": [
    {
     "name": "stdout",
     "output_type": "stream",
     "text": [
      "[1 2 3] <class 'numpy.ndarray'> (3,)\n"
     ]
    }
   ],
   "source": [
    "# 1-D array\n",
    "a = np.array([1,2,3])\n",
    "print(a,type(a),a.shape)"
   ]
  },
  {
   "cell_type": "code",
   "execution_count": 3,
   "metadata": {},
   "outputs": [
    {
     "name": "stdout",
     "output_type": "stream",
     "text": [
      "[[1 2 3]\n [4 5 6]] <class 'numpy.ndarray'> (2, 3) 1\n"
     ]
    }
   ],
   "source": [
    "# 2-D array\n",
    "b = np.array([[1,2,3],[4,5,6]])\n",
    "print(b,type(b),b.shape,b[0,0])"
   ]
  },
  {
   "cell_type": "code",
   "execution_count": 4,
   "metadata": {},
   "outputs": [
    {
     "name": "stdout",
     "output_type": "stream",
     "text": [
      "[[ 0.  0.  0.]\n [ 0.  0.  0.]] <class 'numpy.ndarray'> (2, 3) 0.0\n"
     ]
    }
   ],
   "source": [
    "# In built functions of array creation\n",
    "z = np.zeros((2,3)) # Shape as param\n",
    "print(z,type(z),z.shape,z[0,0])"
   ]
  },
  {
   "cell_type": "code",
   "execution_count": 5,
   "metadata": {},
   "outputs": [
    {
     "name": "stdout",
     "output_type": "stream",
     "text": [
      "[[ 1.  1.  1.]\n [ 1.  1.  1.]] (2, 3) <class 'numpy.ndarray'> 1.0\n"
     ]
    }
   ],
   "source": [
    "# Array of Ones\n",
    "o = np.ones((2,3)) # Shape as param\n",
    "print(o,o.shape,type(o),o[0,1])"
   ]
  },
  {
   "cell_type": "code",
   "execution_count": 6,
   "metadata": {},
   "outputs": [
    {
     "name": "stdout",
     "output_type": "stream",
     "text": [
      "[[7 7 7 7]\n [7 7 7 7]\n [7 7 7 7]\n [7 7 7 7]] (4, 4) <class 'numpy.ndarray'> 7\n"
     ]
    }
   ],
   "source": [
    "# Constant array\n",
    "c = np.full(shape=(4,4),fill_value=7)\n",
    "print(c,c.shape,type(c),c[3,3])"
   ]
  },
  {
   "cell_type": "code",
   "execution_count": 7,
   "metadata": {},
   "outputs": [
    {
     "name": "stdout",
     "output_type": "stream",
     "text": [
      "[[ 1.  0.  0.]\n [ 0.  1.  0.]\n [ 0.  0.  1.]] (3, 3)\n"
     ]
    }
   ],
   "source": [
    "# Identity Matrix\n",
    "i = np.eye(N=3) # As identity matrix is always a square matrix\n",
    "print(i,i.shape)"
   ]
  },
  {
   "cell_type": "code",
   "execution_count": 8,
   "metadata": {},
   "outputs": [
    {
     "name": "stdout",
     "output_type": "stream",
     "text": [
      "[[ 0.14265966  0.63623475]\n [ 0.8012621   0.83813729]] (2, 2)\n"
     ]
    }
   ],
   "source": [
    "# Random Matrix\n",
    "r = np.random.random(size=(2,2))\n",
    "print(r,r.shape)"
   ]
  },
  {
   "cell_type": "markdown",
   "metadata": {},
   "source": [
    "## Array Slicing\n",
    "Array slicing in numpy is very easy and we just have to consider multiple arrays as singular dimensions but there's a catch\n",
    "\n",
    "### Array slicing creates a reference to the original array, hence, any changes made to the new array will transform the original array as well"
   ]
  },
  {
   "cell_type": "code",
   "execution_count": 9,
   "metadata": {},
   "outputs": [
    {
     "data": {
      "text/plain": [
       "array([[7, 7, 7],\n       [7, 7, 7],\n       [7, 7, 7]])"
      ]
     },
     "execution_count": 9,
     "metadata": {},
     "output_type": "execute_result"
    }
   ],
   "source": [
    "# Array Slicing\n",
    "sliced_array = c[:3,1:]\n",
    "sliced_array"
   ]
  },
  {
   "cell_type": "code",
   "execution_count": 10,
   "metadata": {},
   "outputs": [
    {
     "name": "stdout",
     "output_type": "stream",
     "text": [
      "Current array:- \n [[99  7  7]\n [ 7  7  7]\n [ 7  7  7]]\nOriginal array:- \n [[ 7 99  7  7]\n [ 7  7  7  7]\n [ 7  7  7  7]\n [ 7  7  7  7]]\n"
     ]
    }
   ],
   "source": [
    "sliced_array[0,0] = 99\n",
    "\n",
    "print(\"Current array:- \\n\",sliced_array)\n",
    "print(\"Original array:- \\n\",c)"
   ]
  },
  {
   "cell_type": "code",
   "execution_count": 11,
   "metadata": {},
   "outputs": [
    {
     "name": "stdout",
     "output_type": "stream",
     "text": [
      "Original Array:- \n [[ 1  2  3  4]\n [ 5  6  7  8]\n [ 9 10 11 12]]\nInteger Slicing \n [5 6 7 8] (4,)\nIndex Slicing 1 \n [[5 6 7 8]] (1, 4)\nIndex Slicing 2 \n [[5 6 7 8]] (1, 4)\n"
     ]
    }
   ],
   "source": [
    "# Accessing data in middle row keeping multidimensionality\n",
    "a = np.array([[1,2,3,4],[5,6,7,8],[9,10,11,12]])\n",
    "print(\"Original Array:- \\n\",a)\n",
    "\n",
    "# Viewing Middle Row\n",
    "# Integer Slicing\n",
    "r = a[1,:]\n",
    "print(\"Integer Slicing \\n\",r,r.shape)\n",
    "\n",
    "# Index Slicing\n",
    "r = a[[1],:]\n",
    "print(\"Index Slicing 1 \\n\",r,r.shape)\n",
    "\n",
    "r = a[1:2,:]\n",
    "print(\"Index Slicing 2 \\n\",r,r.shape)\n"
   ]
  },
  {
   "cell_type": "markdown",
   "metadata": {},
   "source": [
    "Same can be done for Columns"
   ]
  },
  {
   "cell_type": "markdown",
   "metadata": {},
   "source": [
    "#### Integer Array Indexing\n",
    "Integer array indexing allows us to construct arbitrary arrays using data from another array."
   ]
  },
  {
   "cell_type": "code",
   "execution_count": 12,
   "metadata": {},
   "outputs": [
    {
     "name": "stdout",
     "output_type": "stream",
     "text": [
      "[1 4 5]\n[1 4 5]\n"
     ]
    }
   ],
   "source": [
    "a = np.array([[1,2],[3,4],[5,6]])\n",
    "\n",
    "# Integer array indexing\n",
    "# Shape:- (3,)\n",
    "print(a[[0,1,2],[0,1,0]])\n",
    "\n",
    "# Another way\n",
    "print(np.array([a[0,0],a[1,1],a[2,0]]))"
   ]
  },
  {
   "cell_type": "code",
   "execution_count": 13,
   "metadata": {},
   "outputs": [
    {
     "data": {
      "text/plain": [
       "array([ 1,  6,  7, 11])"
      ]
     },
     "execution_count": 13,
     "metadata": {},
     "output_type": "execute_result"
    }
   ],
   "source": [
    "# Integer array indexing uses include mutating each element from each row of a matrix\n",
    "a = np.array([[1,2,3],[4,5,6],[7,8,9],[10,11,12]])\n",
    "\n",
    "# Array of indices\n",
    "b = np.array([0,2,0,1])\n",
    "\n",
    "# Selecting one from each row\n",
    "a[np.arange(4),b]"
   ]
  },
  {
   "cell_type": "code",
   "execution_count": 14,
   "metadata": {},
   "outputs": [
    {
     "data": {
      "text/plain": [
       "array([[11,  2,  3],\n       [ 4,  5, 16],\n       [17,  8,  9],\n       [10, 21, 12]])"
      ]
     },
     "execution_count": 14,
     "metadata": {},
     "output_type": "execute_result"
    }
   ],
   "source": [
    "a[np.arange(4),b] += 10\n",
    "a"
   ]
  },
  {
   "cell_type": "markdown",
   "metadata": {},
   "source": [
    "#### Boolean array Indexing"
   ]
  },
  {
   "cell_type": "code",
   "execution_count": 15,
   "metadata": {},
   "outputs": [
    {
     "data": {
      "text/plain": [
       "array([[ True, False,  True],\n       [ True,  True,  True],\n       [ True,  True,  True],\n       [ True,  True,  True]], dtype=bool)"
      ]
     },
     "execution_count": 15,
     "metadata": {},
     "output_type": "execute_result"
    }
   ],
   "source": [
    "# Finds the elements of a > 2\n",
    "bool_idx = (a>2) \n",
    "bool_idx"
   ]
  },
  {
   "cell_type": "code",
   "execution_count": 16,
   "metadata": {},
   "outputs": [
    {
     "data": {
      "text/plain": [
       "array([11,  3,  4,  5, 16, 17,  8,  9, 10, 21, 12])"
      ]
     },
     "execution_count": 16,
     "metadata": {},
     "output_type": "execute_result"
    }
   ],
   "source": [
    "a[bool_idx]"
   ]
  },
  {
   "cell_type": "markdown",
   "metadata": {},
   "source": [
    "## DataTypes"
   ]
  },
  {
   "cell_type": "code",
   "execution_count": 17,
   "metadata": {},
   "outputs": [
    {
     "name": "stdout",
     "output_type": "stream",
     "text": [
      "int64 float64 int64\n"
     ]
    }
   ],
   "source": [
    "X = np.array([1,2,3]) # Numpy chooses the dtype\n",
    "y = np.array([1.0,2.0]) # Numpy chooses the dtype\n",
    "z = np.array([1,2], dtype=np.int64) # We choose it\n",
    "\n",
    "print(X.dtype,y.dtype,z.dtype)"
   ]
  },
  {
   "cell_type": "markdown",
   "metadata": {},
   "source": [
    "## MATHS IN NUMPY\n",
    "Numpy overloads basic mathematical operatives as shown below"
   ]
  },
  {
   "cell_type": "code",
   "execution_count": 18,
   "metadata": {},
   "outputs": [
    {
     "name": "stdout",
     "output_type": "stream",
     "text": [
      "\nElementwise Sum\n\n[[  6.   8.]\n [ 10.  12.]]\n[[  6.   8.]\n [ 10.  12.]]\n\nElementwise difference\n\n[[-4. -4.]\n [-4. -4.]]\n[[-4. -4.]\n [-4. -4.]]\n\nElementwise division\n\n[[ 0.2         0.33333333]\n [ 0.42857143  0.5       ]]\n[[ 0.2         0.33333333]\n [ 0.42857143  0.5       ]]\n\nElementwise multiplication\n\n[[  5.  12.]\n [ 21.  32.]]\n[[  5.  12.]\n [ 21.  32.]]\n\nElementwise square root\n\n[[ 1.          1.41421356]\n [ 1.73205081  2.        ]]\n"
     ]
    }
   ],
   "source": [
    "x = np.array([[1,2],[3,4]], dtype=np.float64)\n",
    "y = np.array([[5,6],[7,8]], dtype=np.float64)\n",
    "\n",
    "# Elementwise Sum\n",
    "print(\"\\nElementwise Sum\\n\")\n",
    "print(x+y)\n",
    "print(np.add(x,y))\n",
    "# Elementwise difference\n",
    "print(\"\\nElementwise difference\\n\")\n",
    "print(x-y)\n",
    "print(np.subtract(x,y))\n",
    "# Elementwise division\n",
    "print(\"\\nElementwise division\\n\")\n",
    "print(x/y)\n",
    "print(np.divide(x,y))\n",
    "# Elementwise multiplication\n",
    "print(\"\\nElementwise multiplication\\n\")\n",
    "print(x*y)\n",
    "print(np.multiply(x,y))\n",
    "# Elementwise square root\n",
    "print(\"\\nElementwise square root\\n\")\n",
    "print(np.sqrt(x))"
   ]
  },
  {
   "cell_type": "code",
   "execution_count": 19,
   "metadata": {},
   "outputs": [
    {
     "name": "stdout",
     "output_type": "stream",
     "text": [
      "[[ 19.  22.]\n [ 43.  50.]]\n[[ 19.  22.]\n [ 43.  50.]]\n"
     ]
    }
   ],
   "source": [
    "# Dot product is used for vector scalar multiplication\n",
    "print(np.dot(x,y))\n",
    "print(x.dot(y))"
   ]
  },
  {
   "cell_type": "code",
   "execution_count": 20,
   "metadata": {},
   "outputs": [
    {
     "name": "stdout",
     "output_type": "stream",
     "text": [
      "10.0\n[ 4.  6.]\n[ 3.  7.]\n"
     ]
    }
   ],
   "source": [
    "# Some inbuilt functions of numpy\n",
    "print(np.sum(x)) # Computes sum of all elements of x\n",
    "print(np.sum(x, axis=0)) # Computes sum of each column\n",
    "print(np.sum(x, axis=1)) # Computes sum of each row"
   ]
  },
  {
   "cell_type": "markdown",
   "metadata": {},
   "source": [
    "#### Manipulation of vector shapes, transformations, etc"
   ]
  },
  {
   "cell_type": "code",
   "execution_count": 21,
   "metadata": {},
   "outputs": [
    {
     "name": "stdout",
     "output_type": "stream",
     "text": [
      "[[ 1.  2.]\n [ 3.  4.]]\nTranspose:- \n [[ 1.  3.]\n [ 2.  4.]]\n"
     ]
    }
   ],
   "source": [
    "print(x)\n",
    "print(\"Transpose:- \\n\",x.T)"
   ]
  },
  {
   "cell_type": "markdown",
   "metadata": {},
   "source": [
    "## Broadcasting:- Working With Arrays of Different Shapes"
   ]
  },
  {
   "cell_type": "markdown",
   "metadata": {},
   "source": [
    "#### We want to add a constant vector to each row of a matrix"
   ]
  },
  {
   "cell_type": "code",
   "execution_count": 22,
   "metadata": {},
   "outputs": [
    {
     "data": {
      "text/plain": [
       "array([[ 2,  2,  4],\n       [ 5,  5,  7],\n       [ 8,  8, 10],\n       [11, 11, 13]])"
      ]
     },
     "execution_count": 22,
     "metadata": {},
     "output_type": "execute_result"
    }
   ],
   "source": [
    "# METHOD 1:-\n",
    "x = np.array([[1,2,3],[4,5,6],[7,8,9],[10,11,12]])\n",
    "v = np.array([1,0,1])\n",
    "y = np.empty_like(x) # Creates an array of same as x\n",
    "\n",
    "# Adding vector using a loop\n",
    "for i in range(0,4):\n",
    "    y[i:] = x[i:] + v\n",
    "    \n",
    "# Pretty poor method :(\n",
    "y"
   ]
  },
  {
   "cell_type": "code",
   "execution_count": 23,
   "metadata": {},
   "outputs": [
    {
     "name": "stdout",
     "output_type": "stream",
     "text": [
      "[[1 0 1]\n [1 0 1]\n [1 0 1]\n [1 0 1]]\n"
     ]
    },
    {
     "data": {
      "text/plain": [
       "array([[ 2,  2,  4],\n       [ 5,  5,  7],\n       [ 8,  8, 10],\n       [11, 11, 13]])"
      ]
     },
     "execution_count": 23,
     "metadata": {},
     "output_type": "execute_result"
    }
   ],
   "source": [
    "# METHOD 2:-\n",
    "# We can make an array of shape of x and each row  = v and then add them\n",
    "vv = np.tile(v,(4,1))\n",
    "print(vv)\n",
    "\n",
    "y = vv+x\n",
    "# Boring again af\n",
    "y"
   ]
  },
  {
   "cell_type": "code",
   "execution_count": 24,
   "metadata": {},
   "outputs": [
    {
     "data": {
      "text/plain": [
       "array([[ 2,  2,  4],\n       [ 5,  5,  7],\n       [ 8,  8, 10],\n       [11, 11, 13]])"
      ]
     },
     "execution_count": 24,
     "metadata": {},
     "output_type": "execute_result"
    }
   ],
   "source": [
    "# Using Broadcasting, Simple af\n",
    "y = x+v\n",
    "y"
   ]
  },
  {
   "cell_type": "markdown",
   "metadata": {},
   "source": [
    "### Rules for broadcasting\n",
    "Broadcasting two arrays together follows these rules:\n",
    "\n",
    "1. If the arrays do not have the same rank, prepend the shape of the lower rank array with 1s until both shapes have the same length.\n",
    "\n",
    "2. The two arrays are said to be compatible in a dimension if they have the same size in the dimension, or if one of the arrays has size 1 in that dimension.\n",
    "\n",
    "3. The arrays can be broadcast together if they are compatible in all dimensions.\n",
    "\n",
    "4. After broadcasting, each array behaves as if it had shape equal to the elementwise maximum of shapes of the two input arrays.\n",
    "\n",
    "5. In any dimension where one array had size 1 and the other array had size greater than 1, the first array behaves as if it were copied along that dimension\n"
   ]
  },
  {
   "cell_type": "code",
   "execution_count": 25,
   "metadata": {},
   "outputs": [
    {
     "data": {
      "text/plain": [
       "array([[ 4,  5],\n       [ 8, 10],\n       [12, 15]])"
      ]
     },
     "execution_count": 25,
     "metadata": {},
     "output_type": "execute_result"
    }
   ],
   "source": [
    "v = np.array([1,2,3])\n",
    "w = np.array([4,5])\n",
    "\n",
    "np.reshape(v, (3,1)) * w # Broadcasting"
   ]
  },
  {
   "cell_type": "code",
   "execution_count": 26,
   "metadata": {},
   "outputs": [
    {
     "data": {
      "text/plain": [
       "array([[2, 4, 6],\n       [5, 7, 9]])"
      ]
     },
     "execution_count": 26,
     "metadata": {},
     "output_type": "execute_result"
    }
   ],
   "source": [
    "x = np.array([[1,2,3],[4,5,6]])\n",
    "x + v"
   ]
  },
  {
   "cell_type": "code",
   "execution_count": 27,
   "metadata": {},
   "outputs": [
    {
     "data": {
      "text/plain": [
       "array([[ 5,  6,  7],\n       [ 9, 10, 11]])"
      ]
     },
     "execution_count": 27,
     "metadata": {},
     "output_type": "execute_result"
    }
   ],
   "source": [
    "(x.T + w).T"
   ]
  },
  {
   "cell_type": "code",
   "execution_count": 28,
   "metadata": {},
   "outputs": [
    {
     "data": {
      "text/plain": [
       "array([[ 5,  6,  7],\n       [ 9, 10, 11]])"
      ]
     },
     "execution_count": 28,
     "metadata": {},
     "output_type": "execute_result"
    }
   ],
   "source": [
    "x + np.reshape(w, (2,1))"
   ]
  },
  {
   "cell_type": "code",
   "execution_count": 29,
   "metadata": {},
   "outputs": [
    {
     "data": {
      "text/plain": [
       "array([[ 2,  4,  6],\n       [ 8, 10, 12]])"
      ]
     },
     "execution_count": 29,
     "metadata": {},
     "output_type": "execute_result"
    }
   ],
   "source": [
    "x*2"
   ]
  }
 ],
 "metadata": {
  "kernelspec": {
   "display_name": "Python 2",
   "language": "python",
   "name": "python2"
  },
  "language_info": {
   "codemirror_mode": {
    "name": "ipython",
    "version": 2
   },
   "file_extension": ".py",
   "mimetype": "text/x-python",
   "name": "python",
   "nbconvert_exporter": "python",
   "pygments_lexer": "ipython2",
   "version": "2.7.6"
  }
 },
 "nbformat": 4,
 "nbformat_minor": 0
}
